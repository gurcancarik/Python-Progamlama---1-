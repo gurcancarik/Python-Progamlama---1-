{
 "cells": [
  {
   "cell_type": "code",
   "execution_count": 153,
   "metadata": {},
   "outputs": [],
   "source": [
    "###############################################\n",
    "# Python Alıştırmalar\n",
    "###############################################\n",
    "\n",
    "###############################################\n",
    "# GÖREV 1: Veri yapılarının tipleriniz inceleyiniz.\n",
    "###############################################"
   ]
  },
  {
   "cell_type": "code",
   "execution_count": 154,
   "metadata": {},
   "outputs": [
    {
     "name": "stdout",
     "output_type": "stream",
     "text": [
      "<class 'int'>\n",
      "<class 'float'>\n",
      "<class 'complex'>\n",
      "<class 'str'>\n",
      "<class 'bool'>\n",
      "<class 'bool'>\n",
      "<class 'list'>\n",
      "<class 'dict'>\n",
      "<class 'tuple'>\n",
      "<class 'set'>\n"
     ]
    }
   ],
   "source": [
    "x = 8\n",
    "\n",
    "print(type(x))\n",
    "\n",
    "y = 3.2\n",
    "\n",
    "print(type(y))\n",
    "\n",
    "\n",
    "z = 8j + 18\n",
    "\n",
    "print(type(z))\n",
    "\n",
    "\n",
    "a = \"Hello World\"\n",
    "\n",
    "print(type(a))\n",
    "\n",
    "\n",
    "b = True\n",
    "\n",
    "print(type(b))\n",
    "\n",
    "\n",
    "c = 23 < 22\n",
    "\n",
    "print(type(c))\n",
    "\n",
    "\n",
    "\n",
    "l = [1, 2, 3, 4,\"String\",3.2, False]\n",
    "print(type(l))\n",
    "\n",
    "\n",
    "\n",
    "d = {\"Name\": \"Jake\",\n",
    "     \"Age\": [27,56],\n",
    "     \"Adress\": \"Downtown\"}\n",
    "print(type(d))\n",
    "\n",
    "\n",
    "t = (\"Machine Learning\", \"Data Science\")\n",
    "\n",
    "print(type(t))\n",
    "\n",
    "\n",
    "\n",
    "s = {\"Python\", \"Machine Learning\", \"Data Science\",\"Python\"}\n",
    "\n",
    "print(type(s))\n"
   ]
  },
  {
   "cell_type": "code",
   "execution_count": 155,
   "metadata": {},
   "outputs": [],
   "source": [
    "###############################################\n",
    "# GÖREV 2: Verilen string ifadenin tüm harflerini büyük harfe çeviriniz. Virgül ve nokta yerine space koyunuz, kelime kelime ayırınız.\n",
    "###############################################"
   ]
  },
  {
   "cell_type": "code",
   "execution_count": 156,
   "metadata": {},
   "outputs": [],
   "source": [
    "text = \"The goal is to turn data into information, and information into insight.\""
   ]
  },
  {
   "cell_type": "code",
   "execution_count": 157,
   "metadata": {},
   "outputs": [
    {
     "name": "stdout",
     "output_type": "stream",
     "text": [
      "['THE', 'GOAL', 'IS', 'TO', 'TURN', 'DATA', 'INTO', 'INFORMATION', 'AND', 'INFORMATION', 'INTO', 'INSIGHT']\n"
     ]
    }
   ],
   "source": [
    "text=text.upper()\n",
    "text=text.replace('.','').replace(',','')\n",
    "text=text.split()\n",
    "print(text)\n",
    "\n"
   ]
  },
  {
   "cell_type": "code",
   "execution_count": 158,
   "metadata": {},
   "outputs": [],
   "source": [
    "###############################################\n",
    "# GÖREV 3: Verilen liste için aşağıdaki görevleri yapınız.\n",
    "###############################################"
   ]
  },
  {
   "cell_type": "code",
   "execution_count": 159,
   "metadata": {},
   "outputs": [],
   "source": [
    "lst = [\"D\",\"A\",\"T\",\"A\",\"S\",\"C\",\"I\",\"E\",\"N\",\"C\",\"E\"]"
   ]
  },
  {
   "cell_type": "code",
   "execution_count": 160,
   "metadata": {},
   "outputs": [
    {
     "data": {
      "text/plain": [
       "11"
      ]
     },
     "execution_count": 160,
     "metadata": {},
     "output_type": "execute_result"
    }
   ],
   "source": [
    "# Adım 1: Verilen listenin eleman sayısına bakın.\n",
    "\n",
    "len(lst)"
   ]
  },
  {
   "cell_type": "code",
   "execution_count": 161,
   "metadata": {},
   "outputs": [
    {
     "data": {
      "text/plain": [
       "('D', 'E')"
      ]
     },
     "execution_count": 161,
     "metadata": {},
     "output_type": "execute_result"
    }
   ],
   "source": [
    "# Adım 2: Sıfırıncı ve onuncu index'teki elemanları çağırın.\n",
    "\n",
    "lst[0],lst[10]"
   ]
  },
  {
   "cell_type": "code",
   "execution_count": 162,
   "metadata": {},
   "outputs": [
    {
     "data": {
      "text/plain": [
       "['D', 'A', 'T', 'A']"
      ]
     },
     "execution_count": 162,
     "metadata": {},
     "output_type": "execute_result"
    }
   ],
   "source": [
    "# Adım 3: Verilen liste üzerinden [\"D\",\"A\",\"T\",\"A\"] listesi oluşturun.\n",
    "lst[0:4]"
   ]
  },
  {
   "cell_type": "code",
   "execution_count": 163,
   "metadata": {},
   "outputs": [
    {
     "data": {
      "text/plain": [
       "['D', 'A', 'T', 'A', 'S', 'C', 'I', 'E', 'C', 'E']"
      ]
     },
     "execution_count": 163,
     "metadata": {},
     "output_type": "execute_result"
    }
   ],
   "source": [
    "# Adım 4: Sekizinci index'teki elemanı silin.\n",
    "lst[8]\n",
    "lst.pop(8)\n",
    "lst"
   ]
  },
  {
   "cell_type": "code",
   "execution_count": 164,
   "metadata": {},
   "outputs": [
    {
     "data": {
      "text/plain": [
       "['D', 'A', 'T', 'A', 'S', 'C', 'I', 'E', 'C', 'E', '_G']"
      ]
     },
     "execution_count": 164,
     "metadata": {},
     "output_type": "execute_result"
    }
   ],
   "source": [
    "# Adım 5: Yeni bir eleman ekleyin.\n",
    "lst.append('_G')\n",
    "lst"
   ]
  },
  {
   "cell_type": "code",
   "execution_count": 165,
   "metadata": {},
   "outputs": [
    {
     "data": {
      "text/plain": [
       "['D', 'A', 'T', 'A', 'S', 'C', 'I', 'E', 'N', 'C', 'E', '_G']"
      ]
     },
     "execution_count": 165,
     "metadata": {},
     "output_type": "execute_result"
    }
   ],
   "source": [
    "# Adım 6: Sekizinci index'e  \"N\" elemanını tekrar ekleyin.\n",
    "lst[8]\n",
    "lst.insert(8,'N')\n",
    "lst"
   ]
  },
  {
   "cell_type": "code",
   "execution_count": 166,
   "metadata": {},
   "outputs": [],
   "source": [
    "###############################################\n",
    "# GÖREV 4: Verilen sözlük yapısına aşağıdaki adımları uygulayınız.\n",
    "###############################################\n"
   ]
  },
  {
   "cell_type": "code",
   "execution_count": 167,
   "metadata": {},
   "outputs": [],
   "source": [
    "dict = {'Christian': [\"America\",18],\n",
    "        'Daisy':[\"England\",12],\n",
    "        'Antonio':[\"Spain\",22],\n",
    "        'Dante':[\"Italy\",25]}"
   ]
  },
  {
   "cell_type": "code",
   "execution_count": 168,
   "metadata": {},
   "outputs": [
    {
     "data": {
      "text/plain": [
       "dict_keys(['Christian', 'Daisy', 'Antonio', 'Dante'])"
      ]
     },
     "execution_count": 168,
     "metadata": {},
     "output_type": "execute_result"
    }
   ],
   "source": [
    "# Adım 1: Key değerlerine erişiniz.\n",
    "\n",
    "dict.keys()"
   ]
  },
  {
   "cell_type": "code",
   "execution_count": 169,
   "metadata": {},
   "outputs": [
    {
     "data": {
      "text/plain": [
       "dict_values([['America', 18], ['England', 12], ['Spain', 22], ['Italy', 25]])"
      ]
     },
     "execution_count": 169,
     "metadata": {},
     "output_type": "execute_result"
    }
   ],
   "source": [
    "# Adım 2: Value'lara erişiniz.\n",
    "dict.values()"
   ]
  },
  {
   "cell_type": "code",
   "execution_count": 170,
   "metadata": {},
   "outputs": [
    {
     "data": {
      "text/plain": [
       "['England', 13]"
      ]
     },
     "execution_count": 170,
     "metadata": {},
     "output_type": "execute_result"
    }
   ],
   "source": [
    "# Adım 3: Daisy key'ine ait 12 değerini 13 olarak güncelleyiniz.\n",
    "\n",
    "dict['Daisy']=[\"England\",13]\n",
    "dict['Daisy']"
   ]
  },
  {
   "cell_type": "code",
   "execution_count": 171,
   "metadata": {},
   "outputs": [
    {
     "data": {
      "text/plain": [
       "{'Christian': ['America', 18],\n",
       " 'Daisy': ['England', 13],\n",
       " 'Antonio': ['Spain', 22],\n",
       " 'Dante': ['Italy', 25],\n",
       " 'Ahmet': ['Turkey', 24]}"
      ]
     },
     "execution_count": 171,
     "metadata": {},
     "output_type": "execute_result"
    }
   ],
   "source": [
    "# Adım 4: Key değeri Ahmet value değeri [Turkey,24] olan yeni bir değer ekleyiniz.\n",
    "dict['Ahmet']=['Turkey',24]\n",
    "dict"
   ]
  },
  {
   "cell_type": "code",
   "execution_count": 172,
   "metadata": {},
   "outputs": [],
   "source": [
    "# Adım 5: Antonio'yu dictionary'den siliniz."
   ]
  },
  {
   "cell_type": "code",
   "execution_count": 173,
   "metadata": {},
   "outputs": [
    {
     "data": {
      "text/plain": [
       "['Spain', 22]"
      ]
     },
     "execution_count": 173,
     "metadata": {},
     "output_type": "execute_result"
    }
   ],
   "source": [
    "dict.pop(\"Antonio\")\n",
    "['Spain', 22]\n"
   ]
  },
  {
   "cell_type": "code",
   "execution_count": 174,
   "metadata": {},
   "outputs": [
    {
     "data": {
      "text/plain": [
       "{'Christian': ['America', 18],\n",
       " 'Daisy': ['England', 13],\n",
       " 'Dante': ['Italy', 25],\n",
       " 'Ahmet': ['Turkey', 24]}"
      ]
     },
     "execution_count": 174,
     "metadata": {},
     "output_type": "execute_result"
    }
   ],
   "source": [
    "dict"
   ]
  },
  {
   "cell_type": "code",
   "execution_count": 175,
   "metadata": {},
   "outputs": [],
   "source": [
    "###############################################\n",
    "# GÖREV 5: Arguman olarak bir liste alan, listenin içerisindeki tek ve çift sayıları ayrı listelere atıyan ve bu listeleri return eden fonskiyon yazınız.\n",
    "###############################################"
   ]
  },
  {
   "cell_type": "code",
   "execution_count": 176,
   "metadata": {},
   "outputs": [],
   "source": [
    "liste = [2,13,18,93,22]\n",
    "\n",
    "tek_sayilar=[]\n",
    "çift_sayilar=[]\n",
    "\n",
    "def tek_çift():\n",
    "    for i in liste:\n",
    "        if i % 2 ==0:\n",
    "             çift_sayilar.append(i)\n",
    "        else:\n",
    "             tek_sayilar.append(i)\n",
    "    return tek_sayilar,çift_sayilar     "
   ]
  },
  {
   "cell_type": "code",
   "execution_count": 177,
   "metadata": {},
   "outputs": [
    {
     "data": {
      "text/plain": [
       "[13, 93]"
      ]
     },
     "execution_count": 177,
     "metadata": {},
     "output_type": "execute_result"
    }
   ],
   "source": [
    "liste_tek_çift=tek_çift()\n",
    "tek_sayilar"
   ]
  },
  {
   "cell_type": "code",
   "execution_count": 178,
   "metadata": {},
   "outputs": [
    {
     "data": {
      "text/plain": [
       "[2, 18, 22, 2, 18, 22]"
      ]
     },
     "execution_count": 178,
     "metadata": {},
     "output_type": "execute_result"
    }
   ],
   "source": [
    "liste_tek_çift=tek_çift()\n",
    "çift_sayilar"
   ]
  },
  {
   "cell_type": "code",
   "execution_count": 179,
   "metadata": {},
   "outputs": [],
   "source": [
    "###############################################\n",
    "# GÖREV 6: Aşağıda verilen listede mühendislik ve tıp fakülterinde dereceye giren öğrencilerin isimleri bulunmaktadır.\n",
    "# Sırasıyla ilk üç öğrenci mühendislik fakültesinin başarı sırasını temsil ederken son üç öğrenci de tıp fakültesi öğrenci sırasına aittir.\n",
    "# Enumarate kullanarak öğrenci derecelerini fakülte özelinde yazdırınız.\n",
    "############################################### "
   ]
  },
  {
   "cell_type": "code",
   "execution_count": 180,
   "metadata": {},
   "outputs": [],
   "source": [
    "ogrenciler = [\"Ali\",\"Veli\",\"Ayşe\",\"Talat\",\"Zeynep\",\"Ece\"]"
   ]
  },
  {
   "cell_type": "code",
   "execution_count": 181,
   "metadata": {},
   "outputs": [],
   "source": [
    "mühendislik_öğrencileri=ogrenciler[:3]\n",
    "tip_öğrencileri=ogrenciler[3:]\n"
   ]
  },
  {
   "cell_type": "code",
   "execution_count": 186,
   "metadata": {},
   "outputs": [
    {
     "name": "stdout",
     "output_type": "stream",
     "text": [
      "Mühendislik Fakültesi Öğrencileri:\n",
      "1. Ali\n",
      "2. Veli\n",
      "3. Ayşe\n",
      "******************************************\n",
      "Tip Fakültesi Öğrencileri:\n",
      "1.Talat\n",
      "2.Zeynep\n",
      "3.Ece\n"
     ]
    }
   ],
   "source": [
    "print(\"Mühendislik Fakültesi Öğrencileri:\")\n",
    "for index, ogrenci in enumerate(mühendislik_öğrencileri, start=1):\n",
    "    print(f\"{index}. {ogrenci}\")\n",
    "\n",
    "print('******************************************')\n",
    "print(\"Tip Fakültesi Öğrencileri:\")\n",
    "\n",
    "for index,ogrenci in enumerate(tip_öğrencileri,start=1):\n",
    "    print(f'{index}.{ogrenci}')    "
   ]
  },
  {
   "cell_type": "code",
   "execution_count": 187,
   "metadata": {},
   "outputs": [],
   "source": [
    "###############################################\n",
    "# GÖREV 7: Aşağıda 3 adet liste verilmiştir. Listelerde sırası ile bir dersin kodu, kredisi ve kontenjan bilgileri yer almaktadır. Zip kullanarak ders bilgilerini bastırınız.\n",
    "###############################################\n",
    "ders_kodu = [\"CMP1005\",\"PSY1001\",\"HUK1005\",\"SEN2204\"]\n",
    "kredi = [3,4,2,4]\n",
    "kontenjan = [30,75,150,25]"
   ]
  },
  {
   "cell_type": "code",
   "execution_count": 192,
   "metadata": {},
   "outputs": [
    {
     "name": "stdout",
     "output_type": "stream",
     "text": [
      "[('CMP1005', 3, 30), ('PSY1001', 4, 75), ('HUK1005', 2, 150), ('SEN2204', 4, 25)]\n"
     ]
    }
   ],
   "source": [
    "ders_notlari=zip(ders_kodu,kredi,kontenjan)\n",
    "\n",
    "print(list(ders_notlari))"
   ]
  },
  {
   "cell_type": "code",
   "execution_count": 193,
   "metadata": {},
   "outputs": [],
   "source": [
    "###############################################\n",
    "# GÖREV 8: Aşağıda 2 adet set verilmiştir.\n",
    "# Sizden istenilen eğer 1. küme 2. kümeyi kapsiyor ise ortak elemanlarını eğer kapsamıyor ise 2. kümenin 1. kümeden farkını yazdıracak fonksiyonu tanımlamanız beklenmektedir.\n",
    "###############################################\n",
    "\n",
    "kume1 = set([\"data\", \"python\"])\n",
    "kume2 = set([\"data\", \"function\", \"qcut\", \"lambda\", \"python\", \"miuul\"])\n"
   ]
  },
  {
   "cell_type": "code",
   "execution_count": 194,
   "metadata": {},
   "outputs": [
    {
     "name": "stdout",
     "output_type": "stream",
     "text": [
      "Ortak elemanlar :  {'data', 'python'}\n"
     ]
    }
   ],
   "source": [
    "def kümeler():\n",
    "    if kume1.issubset(kume2):\n",
    "        ortak_eşleşmeler=kume1.intersection(kume2)\n",
    "        print(\"Ortak elemanlar : \",ortak_eşleşmeler)\n",
    "    else:\n",
    "        fark=kume2.difference(kume1)\n",
    "        print(\"kume2'nin kume1 den farkı\",fark)\n",
    "\n",
    "kümeler()        "
   ]
  }
 ],
 "metadata": {
  "kernelspec": {
   "display_name": "base",
   "language": "python",
   "name": "python3"
  },
  "language_info": {
   "codemirror_mode": {
    "name": "ipython",
    "version": 3
   },
   "file_extension": ".py",
   "mimetype": "text/x-python",
   "name": "python",
   "nbconvert_exporter": "python",
   "pygments_lexer": "ipython3",
   "version": "3.12.4"
  }
 },
 "nbformat": 4,
 "nbformat_minor": 2
}
